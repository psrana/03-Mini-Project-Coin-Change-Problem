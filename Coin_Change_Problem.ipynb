{
  "nbformat": 4,
  "nbformat_minor": 0,
  "metadata": {
    "colab": {
      "name": "Coin Change Problem.ipynb",
      "provenance": [],
      "collapsed_sections": [],
      "include_colab_link": true
    },
    "kernelspec": {
      "display_name": "Python 3",
      "language": "python",
      "name": "python3"
    },
    "language_info": {
      "codemirror_mode": {
        "name": "ipython",
        "version": 3
      },
      "file_extension": ".py",
      "mimetype": "text/x-python",
      "name": "python",
      "nbconvert_exporter": "python",
      "pygments_lexer": "ipython3",
      "version": "3.8.5"
    }
  },
  "cells": [
    {
      "cell_type": "markdown",
      "metadata": {
        "id": "view-in-github",
        "colab_type": "text"
      },
      "source": [
        "<a href=\"https://colab.research.google.com/github/psrana/03-Mini-Project-Coin-Change-Problem/blob/main/Coin_Change_Problem.ipynb\" target=\"_parent\"><img src=\"https://colab.research.google.com/assets/colab-badge.svg\" alt=\"Open In Colab\"/></a>"
      ]
    },
    {
      "cell_type": "markdown",
      "metadata": {
        "id": "7nQSRI4Dim1Y"
      },
      "source": [
        "  ---\n",
        "# **Coin Change Problem**\n",
        "---\n",
        "####**Problem Statement:**\n",
        "- There are coins of Rs 1, 5, 10 and 20. How many minimum number of coins are required to make Rs 1125.\n",
        "- **Constraints**: Total number of coins must be multiple of 5.\n",
        "---\n"
      ]
    },
    {
      "cell_type": "markdown",
      "metadata": {
        "id": "A30y-VtNim1h"
      },
      "source": [
        "### **1. Library inclusion**"
      ]
    },
    {
      "cell_type": "code",
      "metadata": {
        "id": "cF_mSA9Xim1j"
      },
      "source": [
        "import random as r"
      ],
      "execution_count": 1,
      "outputs": []
    },
    {
      "cell_type": "markdown",
      "metadata": {
        "id": "UjvBYy0Lim1m"
      },
      "source": [
        "### **2. Parameter Setting**"
      ]
    },
    {
      "cell_type": "code",
      "metadata": {
        "id": "NHB2KMhZim1o"
      },
      "source": [
        "#Parameter Setting\n",
        "CoinList    = [1, 5, 10, 20]  # Coin List\n",
        "Target      = 1125     # Target\n",
        "C           = 5        # Constraint\n",
        "ResultList  = set()    # Store Result List\n",
        "Iterations  = 10000    # Number of Inerations"
      ],
      "execution_count": 2,
      "outputs": []
    },
    {
      "cell_type": "markdown",
      "metadata": {
        "id": "BTLd3s--im1c"
      },
      "source": [
        "### **3. Single Run**\n",
        "\n",
        "\n"
      ]
    },
    {
      "cell_type": "code",
      "metadata": {
        "id": "veBU-f21im1x",
        "colab": {
          "base_uri": "https://localhost:8080/"
        },
        "outputId": "4aef869e-c9d4-4e81-b4b6-f1cd9a7a742b"
      },
      "source": [
        "# Print CoinList\n",
        "print (\"Coin List     : \", CoinList)\n",
        "\n",
        "# Select count of coins\n",
        "CoinCount = [ 5 * r.randint(0,15) for j in range(len(CoinList))]\n",
        "print (\"Coin Count    : \", CoinCount)\n",
        "\n",
        "# Select number of elements from Set\n",
        "CoinCost = [ a * b for a,b in zip(CoinCount, CoinList)]\n",
        "print (\"Each Coin cost: \", CoinCost)\n",
        "\n",
        "# Sum the products in ColboList\n",
        "CoinSum = sum(CoinCost)\n",
        "print(CoinSum)\n"
      ],
      "execution_count": 3,
      "outputs": [
        {
          "output_type": "stream",
          "name": "stdout",
          "text": [
            "Coin List     :  [1, 5, 10, 20]\n",
            "Coin Count    :  [30, 15, 60, 55]\n",
            "Each Coin cost:  [30, 75, 600, 1100]\n",
            "1805\n"
          ]
        }
      ]
    },
    {
      "cell_type": "markdown",
      "metadata": {
        "id": "VBOTEZppIIDh"
      },
      "source": [
        "### **4. Start Program**\n",
        "\n",
        "\n"
      ]
    },
    {
      "cell_type": "code",
      "metadata": {
        "colab": {
          "base_uri": "https://localhost:8080/"
        },
        "outputId": "f45c05b8-39a1-4216-f286-d395dd116962",
        "id": "uvuFtJSmIIDj"
      },
      "source": [
        "# Loop till number of Iterations\n",
        "ResultList  = set()\n",
        "\n",
        "f=0\n",
        "for i in range(Iterations):\n",
        "\n",
        "    # Select count of coins\n",
        "    CoinCount = [ 5 * r.randint(0,15) for j in range(len(CoinList))]\n",
        "\n",
        "    # Select number of elements from Set\n",
        "    CoinCost = [ a * b for a,b in zip(CoinCount, CoinList)]\n",
        "\n",
        "    # Sum the products in ColboList\n",
        "    CoinSum = sum(CoinCost)\n",
        "    \n",
        "    if sum(CoinCost) == Target:\n",
        "      print (\"Coint Count: \", CoinCount, sum(CoinCount), sum(CoinCost))\n",
        "      ResultList.add(tuple(CoinCount))\n",
        "      f=1\n",
        "\n",
        "if f==0:\n",
        "  print(\"No Sequence found !!\")\n",
        "\n",
        "# Print total sets\n",
        "print (\"\\nTotal Sets: \", len(ResultList), \"\\n\")\n"
      ],
      "execution_count": 4,
      "outputs": [
        {
          "output_type": "stream",
          "name": "stdout",
          "text": [
            "Coint Count:  [0, 25, 40, 30] 95 1125\n",
            "Coint Count:  [75, 40, 65, 10] 190 1125\n",
            "Coint Count:  [50, 75, 30, 20] 175 1125\n",
            "Coint Count:  [75, 20, 65, 15] 175 1125\n",
            "Coint Count:  [25, 30, 5, 45] 105 1125\n",
            "Coint Count:  [0, 35, 75, 10] 120 1125\n",
            "Coint Count:  [25, 0, 30, 40] 95 1125\n",
            "Coint Count:  [50, 75, 40, 15] 180 1125\n",
            "Coint Count:  [50, 55, 70, 5] 180 1125\n",
            "Coint Count:  [25, 50, 5, 40] 120 1125\n",
            "Coint Count:  [25, 70, 75, 0] 170 1125\n",
            "Coint Count:  [75, 30, 60, 15] 180 1125\n",
            "Coint Count:  [25, 30, 55, 20] 130 1125\n",
            "Coint Count:  [50, 15, 0, 50] 115 1125\n",
            "Coint Count:  [75, 20, 55, 20] 170 1125\n",
            "Coint Count:  [25, 50, 35, 25] 135 1125\n",
            "Coint Count:  [75, 20, 35, 30] 160 1125\n",
            "Coint Count:  [25, 10, 35, 35] 105 1125\n",
            "Coint Count:  [75, 40, 5, 40] 160 1125\n",
            "Coint Count:  [75, 20, 35, 30] 160 1125\n",
            "Coint Count:  [75, 0, 15, 45] 135 1125\n",
            "Coint Count:  [75, 60, 35, 20] 190 1125\n",
            "Coint Count:  [0, 45, 60, 15] 120 1125\n",
            "Coint Count:  [50, 45, 5, 40] 140 1125\n",
            "Coint Count:  [25, 10, 25, 40] 100 1125\n",
            "Coint Count:  [0, 45, 30, 30] 105 1125\n",
            "Coint Count:  [25, 0, 60, 25] 110 1125\n",
            "Coint Count:  [0, 75, 65, 5] 145 1125\n",
            "Coint Count:  [0, 65, 50, 15] 130 1125\n",
            "Coint Count:  [75, 0, 45, 30] 150 1125\n",
            "Coint Count:  [75, 10, 30, 35] 150 1125\n",
            "Coint Count:  [75, 50, 0, 40] 165 1125\n",
            "Coint Count:  [0, 35, 45, 25] 105 1125\n",
            "Coint Count:  [0, 35, 25, 35] 95 1125\n",
            "Coint Count:  [25, 70, 45, 15] 155 1125\n",
            "Coint Count:  [0, 25, 70, 15] 110 1125\n",
            "Coint Count:  [0, 45, 30, 30] 105 1125\n",
            "Coint Count:  [75, 0, 45, 30] 150 1125\n",
            "Coint Count:  [0, 45, 50, 20] 115 1125\n",
            "Coint Count:  [25, 70, 5, 35] 135 1125\n",
            "Coint Count:  [25, 0, 20, 45] 90 1125\n",
            "Coint Count:  [25, 50, 15, 35] 125 1125\n",
            "Coint Count:  [75, 0, 65, 20] 160 1125\n",
            "Coint Count:  [75, 10, 40, 30] 155 1125\n",
            "Coint Count:  [0, 5, 60, 25] 90 1125\n",
            "Coint Count:  [0, 55, 65, 10] 130 1125\n",
            "Coint Count:  [75, 10, 20, 40] 145 1125\n",
            "Coint Count:  [25, 20, 0, 50] 95 1125\n",
            "Coint Count:  [75, 10, 50, 25] 160 1125\n",
            "Coint Count:  [75, 20, 25, 35] 155 1125\n",
            "\n",
            "Total Sets:  47 \n",
            "\n"
          ]
        }
      ]
    },
    {
      "cell_type": "markdown",
      "source": [
        "### **5. Find the min count of coins**\n"
      ],
      "metadata": {
        "id": "r9uAwLLBeblV"
      }
    },
    {
      "cell_type": "code",
      "source": [
        "minSum  = 99999\n",
        "minList = 0\n",
        "for r in ResultList:\n",
        "  if sum(r) < minSum:\n",
        "    minSum = sum(r)\n",
        "    minList = r\n",
        "\n",
        "print(\"Min num of coins are:\" , sum(minList), minList )"
      ],
      "metadata": {
        "colab": {
          "base_uri": "https://localhost:8080/"
        },
        "id": "nCyk0fHJcwmE",
        "outputId": "c1e58481-0be5-40be-9e0e-3942fc52af0d"
      },
      "execution_count": 5,
      "outputs": [
        {
          "output_type": "stream",
          "name": "stdout",
          "text": [
            "Min num of coins are: 90 (25, 0, 20, 45)\n"
          ]
        }
      ]
    },
    {
      "cell_type": "markdown",
      "source": [
        "### **6. Compelete Code**\n"
      ],
      "metadata": {
        "id": "ZQxw382Feh77"
      }
    },
    {
      "cell_type": "code",
      "source": [
        "# 1. Library inclusion\n",
        "import random as r\n",
        "\n",
        "\n",
        "# 2. Parameter Setting\n",
        "CoinList    = [1, 5, 10, 20]  # Coin List\n",
        "Target      = 1125     # Target\n",
        "C           = 5        # Constraint\n",
        "ResultList  = set()    # Store Result List\n",
        "Iterations  = 50000    # Number of Inerations\n",
        "\n",
        "\n",
        "\n",
        "# 3. Loop till number of Iterations\n",
        "f=0\n",
        "for i in range(Iterations):\n",
        "\n",
        "    # Select count of coins\n",
        "    CoinCount = [ 5 * r.randint(0,15) for j in range(len(CoinList))]\n",
        "\n",
        "    # Select number of elements from Set\n",
        "    CoinCost = [ a * b for a,b in zip(CoinCount, CoinList)]\n",
        "\n",
        "    # Sum the products in ColboList\n",
        "    CoinSum = sum(CoinCost)\n",
        "    \n",
        "    if sum(CoinCost) == Target:\n",
        "      ResultList.add(tuple(CoinCount))\n",
        "      f=1\n",
        "\n",
        "if f==0:\n",
        "  print(\"No Sequence found !!\")\n",
        "\n",
        "\n",
        "\n",
        "# 4. Find min count of coins\n",
        "minSum  = 99999\n",
        "minList = 0\n",
        "for r in ResultList:\n",
        "  if sum(r) < minSum:\n",
        "    minList = r\n",
        "\n",
        "print(\"Min num of coins are:\" , sum(minList), minList )"
      ],
      "metadata": {
        "colab": {
          "base_uri": "https://localhost:8080/"
        },
        "outputId": "29e17b58-9020-421e-83d2-38439f99e315",
        "id": "tToGkRhheh79"
      },
      "execution_count": 6,
      "outputs": [
        {
          "output_type": "stream",
          "name": "stdout",
          "text": [
            "Min num of coins are: 185 (75, 60, 25, 25)\n"
          ]
        }
      ]
    }
  ]
}