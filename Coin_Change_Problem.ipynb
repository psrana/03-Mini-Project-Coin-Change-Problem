{
  "nbformat": 4,
  "nbformat_minor": 0,
  "metadata": {
    "colab": {
      "name": "Coin Change Problem.ipynb",
      "provenance": [],
      "collapsed_sections": [],
      "include_colab_link": true
    },
    "kernelspec": {
      "display_name": "Python 3",
      "language": "python",
      "name": "python3"
    },
    "language_info": {
      "codemirror_mode": {
        "name": "ipython",
        "version": 3
      },
      "file_extension": ".py",
      "mimetype": "text/x-python",
      "name": "python",
      "nbconvert_exporter": "python",
      "pygments_lexer": "ipython3",
      "version": "3.8.5"
    }
  },
  "cells": [
    {
      "cell_type": "markdown",
      "metadata": {
        "id": "view-in-github",
        "colab_type": "text"
      },
      "source": [
        "<a href=\"https://colab.research.google.com/github/psrana/03-Mini-Project-Coin-Change-Problem/blob/main/Coin_Change_Problem.ipynb\" target=\"_parent\"><img src=\"https://colab.research.google.com/assets/colab-badge.svg\" alt=\"Open In Colab\"/></a>"
      ]
    },
    {
      "cell_type": "markdown",
      "metadata": {
        "id": "7nQSRI4Dim1Y"
      },
      "source": [
        "  ---\n",
        "# **Coin Change Problem**\n",
        "---\n",
        "####**Problem Statement:**\n",
        "- There are coins of Rs 1, 5, 10 and 20. How many minimum number of coins are required to make Rs 1125.\n",
        "- **Constraints**: Total number of coins must be multiple of 5.\n",
        "---\n"
      ]
    },
    {
      "cell_type": "markdown",
      "metadata": {
        "id": "A30y-VtNim1h"
      },
      "source": [
        "### **1. Library inclusion**"
      ]
    },
    {
      "cell_type": "code",
      "metadata": {
        "id": "cF_mSA9Xim1j"
      },
      "source": [
        "import random as r"
      ],
      "execution_count": 1,
      "outputs": []
    },
    {
      "cell_type": "markdown",
      "metadata": {
        "id": "UjvBYy0Lim1m"
      },
      "source": [
        "### **2. Parameter Setting**"
      ]
    },
    {
      "cell_type": "code",
      "metadata": {
        "id": "NHB2KMhZim1o"
      },
      "source": [
        "#Parameter Setting\n",
        "CoinList    = [1, 5, 10, 20]  # Coin List\n",
        "Target      = 1125     # Target\n",
        "C           = 5        # Constraint\n",
        "ResultList  = set()    # Store Result List\n",
        "Iterations  = 10000    # Number of Inerations"
      ],
      "execution_count": 2,
      "outputs": []
    },
    {
      "cell_type": "markdown",
      "metadata": {
        "id": "BTLd3s--im1c"
      },
      "source": [
        "### **3. Single Run**\n",
        "\n",
        "\n"
      ]
    },
    {
      "cell_type": "code",
      "metadata": {
        "id": "veBU-f21im1x",
        "colab": {
          "base_uri": "https://localhost:8080/"
        },
        "outputId": "1895dd6a-d5ca-4b2c-9744-fd70b7bc27df"
      },
      "source": [
        "# Print CoinList\n",
        "print (\"Coin List     : \", CoinList)\n",
        "\n",
        "# Select count of coins\n",
        "CoinCount = [ 5 * r.randint(0,11) for j in range(len(CoinList))]\n",
        "print (\"Coin Count    : \", CoinCount)\n",
        "\n",
        "# Select number of elements from Set\n",
        "CoinCost = [ a * b for a,b in zip(CoinCount, CoinList)]\n",
        "print (\"Each Coin cost: \", CoinCost)\n",
        "\n",
        "# Sum the products in ColboList\n",
        "CoinSum = sum(CoinCost)\n",
        "print(CoinSum)\n"
      ],
      "execution_count": 3,
      "outputs": [
        {
          "output_type": "stream",
          "name": "stdout",
          "text": [
            "Coin List     :  [1, 5, 10, 20]\n",
            "Coin Count    :  [50, 45, 40, 0]\n",
            "Each Coin cost:  [50, 225, 400, 0]\n",
            "675\n"
          ]
        }
      ]
    },
    {
      "cell_type": "markdown",
      "metadata": {
        "id": "VBOTEZppIIDh"
      },
      "source": [
        "### **4. Start Program**\n",
        "\n",
        "\n"
      ]
    },
    {
      "cell_type": "code",
      "metadata": {
        "colab": {
          "base_uri": "https://localhost:8080/"
        },
        "outputId": "a8b40b58-54bc-471e-efbc-8630b38090fc",
        "id": "uvuFtJSmIIDj"
      },
      "source": [
        "# Loop till number of Iterations\n",
        "ResultList  = set()\n",
        "\n",
        "f=0\n",
        "for i in range(Iterations):\n",
        "\n",
        "    # Select count of coins\n",
        "    CoinCount = [ 5 * r.randint(0,11) for j in range(len(CoinList))]\n",
        "\n",
        "    # Select number of elements from Set\n",
        "    CoinCost = [ a * b for a,b in zip(CoinCount, CoinList)]\n",
        "\n",
        "    # Sum the products in ColboList\n",
        "    CoinSum = sum(CoinCost)\n",
        "    \n",
        "    if sum(CoinCost) == Target:\n",
        "      print (\"Coint Count: \", CoinCount, sum(CoinCost))\n",
        "      ResultList.add(tuple(CoinCount))\n",
        "      f=1\n",
        "\n",
        "if f==0:\n",
        "  print(\"No Sequence found !!\")\n",
        "\n",
        "# Print total sets\n",
        "print (\"\\nTotal Sets: \", len(ResultList), \"\\n\")\n"
      ],
      "execution_count": 4,
      "outputs": [
        {
          "output_type": "stream",
          "name": "stdout",
          "text": [
            "Coint Count:  [50, 55, 0, 40] 1125\n",
            "Coint Count:  [25, 10, 55, 25] 1125\n",
            "Coint Count:  [25, 50, 55, 15] 1125\n",
            "Coint Count:  [25, 30, 5, 45] 1125\n",
            "Coint Count:  [0, 25, 20, 40] 1125\n",
            "Coint Count:  [50, 35, 0, 45] 1125\n",
            "Coint Count:  [0, 15, 25, 40] 1125\n",
            "Coint Count:  [50, 5, 45, 30] 1125\n",
            "Coint Count:  [25, 10, 15, 45] 1125\n",
            "Coint Count:  [50, 5, 45, 30] 1125\n",
            "Coint Count:  [25, 40, 50, 20] 1125\n",
            "Coint Count:  [0, 25, 50, 25] 1125\n",
            "Coint Count:  [25, 0, 30, 40] 1125\n",
            "Coint Count:  [0, 5, 40, 35] 1125\n",
            "Coint Count:  [25, 20, 30, 35] 1125\n",
            "Coint Count:  [0, 5, 40, 35] 1125\n",
            "Coint Count:  [25, 10, 15, 45] 1125\n",
            "Coint Count:  [25, 20, 30, 35] 1125\n",
            "Coint Count:  [50, 45, 25, 30] 1125\n",
            "Coint Count:  [25, 50, 55, 15] 1125\n",
            "Coint Count:  [25, 10, 35, 35] 1125\n",
            "Coint Count:  [50, 45, 5, 40] 1125\n",
            "Coint Count:  [25, 40, 40, 25] 1125\n",
            "Coint Count:  [25, 20, 30, 35] 1125\n",
            "Coint Count:  [25, 10, 35, 35] 1125\n",
            "Coint Count:  [0, 15, 55, 25] 1125\n",
            "Coint Count:  [50, 25, 55, 20] 1125\n",
            "Coint Count:  [50, 55, 0, 40] 1125\n",
            "Coint Count:  [50, 35, 10, 40] 1125\n",
            "Coint Count:  [0, 55, 45, 20] 1125\n",
            "Coint Count:  [50, 35, 0, 45] 1125\n",
            "Coint Count:  [50, 55, 40, 20] 1125\n",
            "Coint Count:  [50, 45, 45, 20] 1125\n",
            "Coint Count:  [0, 55, 35, 25] 1125\n",
            "Coint Count:  [50, 25, 25, 35] 1125\n",
            "Coint Count:  [25, 20, 40, 30] 1125\n",
            "Coint Count:  [25, 20, 50, 25] 1125\n",
            "Coint Count:  [0, 5, 20, 45] 1125\n",
            "Coint Count:  [50, 35, 10, 40] 1125\n",
            "Coint Count:  [50, 15, 20, 40] 1125\n",
            "Coint Count:  [0, 45, 30, 30] 1125\n",
            "Coint Count:  [50, 55, 40, 20] 1125\n",
            "Coint Count:  [25, 0, 10, 50] 1125\n",
            "Coint Count:  [50, 35, 10, 40] 1125\n",
            "Coint Count:  [25, 40, 20, 35] 1125\n",
            "Coint Count:  [50, 5, 5, 50] 1125\n",
            "Coint Count:  [25, 50, 15, 35] 1125\n",
            "Coint Count:  [25, 30, 25, 35] 1125\n",
            "Coint Count:  [50, 55, 10, 35] 1125\n",
            "Coint Count:  [0, 25, 0, 50] 1125\n",
            "Coint Count:  [0, 15, 5, 50] 1125\n",
            "Coint Count:  [0, 15, 25, 40] 1125\n",
            "\n",
            "Total Sets:  39 \n",
            "\n"
          ]
        }
      ]
    },
    {
      "cell_type": "markdown",
      "source": [
        "### **5. Find the min count of coins**\n"
      ],
      "metadata": {
        "id": "r9uAwLLBeblV"
      }
    },
    {
      "cell_type": "code",
      "source": [
        "minSum  = 99999\n",
        "minList = 0\n",
        "for r in ResultList:\n",
        "  if sum(r) < minSum:\n",
        "    minList = r\n",
        "\n",
        "print(\"Min num of coins are:\" , sum(minList), minList )"
      ],
      "metadata": {
        "colab": {
          "base_uri": "https://localhost:8080/"
        },
        "id": "nCyk0fHJcwmE",
        "outputId": "1838ada4-ec7c-4797-c769-bc584105030f"
      },
      "execution_count": 5,
      "outputs": [
        {
          "output_type": "stream",
          "name": "stdout",
          "text": [
            "Min num of coins are: 115 (0, 55, 35, 25)\n"
          ]
        }
      ]
    },
    {
      "cell_type": "markdown",
      "source": [
        "### **6. Compelete Code**\n"
      ],
      "metadata": {
        "id": "ZQxw382Feh77"
      }
    },
    {
      "cell_type": "code",
      "source": [
        "# 1. Library inclusion\n",
        "import random as r\n",
        "\n",
        "\n",
        "# 2. Parameter Setting\n",
        "CoinList    = [1, 5, 10, 20]  # Coin List\n",
        "Target      = 1125     # Target\n",
        "C           = 5        # Constraint\n",
        "ResultList  = set()    # Store Result List\n",
        "Iterations  = 50000    # Number of Inerations\n",
        "\n",
        "\n",
        "\n",
        "# 3. Loop till number of Iterations\n",
        "f=0\n",
        "for i in range(Iterations):\n",
        "\n",
        "    # Select count of coins\n",
        "    CoinCount = [ 5 * r.randint(0,11) for j in range(len(CoinList))]\n",
        "\n",
        "    # Select number of elements from Set\n",
        "    CoinCost = [ a * b for a,b in zip(CoinCount, CoinList)]\n",
        "\n",
        "    # Sum the products in ColboList\n",
        "    CoinSum = sum(CoinCost)\n",
        "    \n",
        "    if sum(CoinCost) == Target:\n",
        "      ResultList.add(tuple(CoinCount))\n",
        "      f=1\n",
        "\n",
        "if f==0:\n",
        "  print(\"No Sequence found !!\")\n",
        "\n",
        "\n",
        "\n",
        "# 4. Find min count of coins\n",
        "minSum  = 99999\n",
        "minList = 0\n",
        "for r in ResultList:\n",
        "  if sum(r) < minSum:\n",
        "    minList = r\n",
        "\n",
        "print(\"Min num of coins are:\" , sum(minList), minList )"
      ],
      "metadata": {
        "colab": {
          "base_uri": "https://localhost:8080/"
        },
        "outputId": "591f4d4c-571b-4476-afef-77d1050f0d0e",
        "id": "tToGkRhheh79"
      },
      "execution_count": 6,
      "outputs": [
        {
          "output_type": "stream",
          "name": "stdout",
          "text": [
            "Min num of coins are: 100 (25, 0, 40, 35)\n"
          ]
        }
      ]
    }
  ]
}